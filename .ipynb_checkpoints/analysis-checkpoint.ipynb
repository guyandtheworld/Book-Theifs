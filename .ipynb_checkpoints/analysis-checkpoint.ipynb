{
 "cells": [
  {
   "cell_type": "markdown",
   "metadata": {},
   "source": [
    "# ETL on books from Amazon and Flipkart"
   ]
  },
  {
   "cell_type": "code",
   "execution_count": 1,
   "metadata": {},
   "outputs": [],
   "source": [
    "import pandas as pd\n",
    "import numpy as np\n",
    "import seaborn as sns\n",
    "import matplotlib.pyplot as plt"
   ]
  },
  {
   "cell_type": "markdown",
   "metadata": {},
   "source": [
    "## Flipkart ETL"
   ]
  },
  {
   "cell_type": "code",
   "execution_count": 3,
   "metadata": {},
   "outputs": [
    {
     "data": {
      "text/html": [
       "<div>\n",
       "<style scoped>\n",
       "    .dataframe tbody tr th:only-of-type {\n",
       "        vertical-align: middle;\n",
       "    }\n",
       "\n",
       "    .dataframe tbody tr th {\n",
       "        vertical-align: top;\n",
       "    }\n",
       "\n",
       "    .dataframe thead th {\n",
       "        text-align: right;\n",
       "    }\n",
       "</style>\n",
       "<table border=\"1\" class=\"dataframe\">\n",
       "  <thead>\n",
       "    <tr style=\"text-align: right;\">\n",
       "      <th></th>\n",
       "      <th>price</th>\n",
       "      <th>title</th>\n",
       "      <th>author</th>\n",
       "      <th>stars</th>\n",
       "      <th>ratings count</th>\n",
       "      <th>reviews count</th>\n",
       "      <th>language</th>\n",
       "      <th>binding</th>\n",
       "      <th>publisher</th>\n",
       "      <th>genre</th>\n",
       "      <th>isbn10</th>\n",
       "      <th>isbn13(double click to view)</th>\n",
       "      <th>pages</th>\n",
       "      <th>edition</th>\n",
       "    </tr>\n",
       "  </thead>\n",
       "  <tbody>\n",
       "    <tr>\n",
       "      <th>0</th>\n",
       "      <td>Rs: 280</td>\n",
       "      <td>Book of Unforgettable Women</td>\n",
       "      <td>Khushwant Singh's</td>\n",
       "      <td>4.1</td>\n",
       "      <td>10</td>\n",
       "      <td>1</td>\n",
       "      <td>English</td>\n",
       "      <td>Paperback</td>\n",
       "      <td>Penguin</td>\n",
       "      <td></td>\n",
       "      <td>141000864</td>\n",
       "      <td>9.78014E+12</td>\n",
       "      <td>304</td>\n",
       "      <td>1st &amp; 2000</td>\n",
       "    </tr>\n",
       "    <tr>\n",
       "      <th>1</th>\n",
       "      <td>Rs: 189</td>\n",
       "      <td>PMR: What Did I Ever See In Him</td>\n",
       "      <td>Amrita Sharma</td>\n",
       "      <td>2.6</td>\n",
       "      <td>20</td>\n",
       "      <td>4</td>\n",
       "      <td>English</td>\n",
       "      <td>Paperback</td>\n",
       "      <td>Penguin</td>\n",
       "      <td></td>\n",
       "      <td>143414593</td>\n",
       "      <td>9.78014E+12</td>\n",
       "      <td>200</td>\n",
       "      <td>1st Edition &amp; 2011</td>\n",
       "    </tr>\n",
       "    <tr>\n",
       "      <th>2</th>\n",
       "      <td>Rs: 209</td>\n",
       "      <td>MEN ARE FROM MARS- WOMEN ARE FROM VENUS</td>\n",
       "      <td>John Gray</td>\n",
       "      <td>4.4</td>\n",
       "      <td>2581</td>\n",
       "      <td>184</td>\n",
       "      <td>English</td>\n",
       "      <td>Paperback</td>\n",
       "      <td>Harper</td>\n",
       "      <td></td>\n",
       "      <td>8172235038</td>\n",
       "      <td>9.78817E+12</td>\n",
       "      <td>384</td>\n",
       "      <td>1stEdition &amp; 2003</td>\n",
       "    </tr>\n",
       "    <tr>\n",
       "      <th>3</th>\n",
       "      <td>Rs: 188</td>\n",
       "      <td>Always a Parent</td>\n",
       "      <td>Dange Gouri</td>\n",
       "      <td></td>\n",
       "      <td></td>\n",
       "      <td></td>\n",
       "      <td>English</td>\n",
       "      <td>Paperback</td>\n",
       "      <td>Navyug Publishers</td>\n",
       "      <td>Family &amp; Relationships</td>\n",
       "      <td>8175994118</td>\n",
       "      <td>9.78818E+12</td>\n",
       "      <td></td>\n",
       "      <td></td>\n",
       "    </tr>\n",
       "    <tr>\n",
       "      <th>4</th>\n",
       "      <td>Rs: 96</td>\n",
       "      <td>Men are from Mars Women are from Venus</td>\n",
       "      <td>Gray John</td>\n",
       "      <td>4.3</td>\n",
       "      <td>325</td>\n",
       "      <td>24</td>\n",
       "      <td>Hindi</td>\n",
       "      <td>Paperback</td>\n",
       "      <td>Manjul</td>\n",
       "      <td>Self-Help</td>\n",
       "      <td>818677548X</td>\n",
       "      <td>9.78819E+12</td>\n",
       "      <td>154</td>\n",
       "      <td></td>\n",
       "    </tr>\n",
       "  </tbody>\n",
       "</table>\n",
       "</div>"
      ],
      "text/plain": [
       "      price                                     title               author  \\\n",
       "0   Rs: 280               Book of Unforgettable Women    Khushwant Singh's   \n",
       "1   Rs: 189           PMR: What Did I Ever See In Him        Amrita Sharma   \n",
       "2   Rs: 209   MEN ARE FROM MARS- WOMEN ARE FROM VENUS            John Gray   \n",
       "3   Rs: 188                           Always a Parent          Dange Gouri   \n",
       "4    Rs: 96    Men are from Mars Women are from Venus            Gray John   \n",
       "\n",
       "  stars ratings count reviews count language    binding          publisher  \\\n",
       "0   4.1            10             1  English  Paperback            Penguin   \n",
       "1   2.6            20             4  English  Paperback            Penguin   \n",
       "2   4.4          2581           184  English  Paperback             Harper   \n",
       "3                                    English  Paperback  Navyug Publishers   \n",
       "4   4.3           325            24    Hindi  Paperback             Manjul   \n",
       "\n",
       "                    genre       isbn10 isbn13(double click to view) pages  \\\n",
       "0                            141000864                  9.78014E+12   304   \n",
       "1                            143414593                  9.78014E+12   200   \n",
       "2                           8172235038                  9.78817E+12   384   \n",
       "3  Family & Relationships   8175994118                  9.78818E+12         \n",
       "4               Self-Help   818677548X                  9.78819E+12   154   \n",
       "\n",
       "              edition  \n",
       "0          1st & 2000  \n",
       "1  1st Edition & 2011  \n",
       "2   1stEdition & 2003  \n",
       "3                      \n",
       "4                      "
      ]
     },
     "execution_count": 3,
     "metadata": {},
     "output_type": "execute_result"
    }
   ],
   "source": [
    "flipkart = pd.read_csv('All_Data.csv', encoding = \"ISO-8859-1\")\n",
    "cols_to_drop = ['URL']\n",
    "flipkart = flipkart.drop(cols_to_drop, axis=1)\n",
    "flipkart.columns = [col.strip().lower() for col in flipkart.columns]\n",
    "flipkart.head()"
   ]
  },
  {
   "cell_type": "code",
   "execution_count": 5,
   "metadata": {},
   "outputs": [],
   "source": [
    "def extract_price(string):\n",
    "    price = string.split(\": \")\n",
    "    if len(price) == 2 and price[1].isdigit():\n",
    "        return int(price[1])\n",
    "    else:\n",
    "        np.nan"
   ]
  },
  {
   "cell_type": "code",
   "execution_count": 6,
   "metadata": {},
   "outputs": [],
   "source": [
    "price = flipkart.iloc[:, 0].apply(extract_price)\n",
    "flipkart['price'] = price"
   ]
  },
  {
   "cell_type": "code",
   "execution_count": 7,
   "metadata": {},
   "outputs": [],
   "source": [
    "na_index = price[price.isna()].index\n",
    "flipkart = flipkart.drop(na_index, axis=0)\n",
    "flipkart = flipkart[['author', 'isbn10', 'title', 'ratings count', 'price', 'stars']]\n",
    "flipkart.columns = ['flipkart_' + col.strip().lower() for col in flipkart.columns]\n",
    "flipkart.flipkart_price = flipkart.flipkart_price.astype('int64')"
   ]
  },
  {
   "cell_type": "code",
   "execution_count": 8,
   "metadata": {},
   "outputs": [],
   "source": [
    "def clean_isbn(ls):\n",
    "    if ls == ls:\n",
    "        return ls[1:]\n",
    "    else:\n",
    "        return np.nan\n",
    "\n",
    "flipkart.flipkart_isbn10 = flipkart.flipkart_isbn10.apply(clean_isbn)"
   ]
  },
  {
   "cell_type": "code",
   "execution_count": 9,
   "metadata": {},
   "outputs": [],
   "source": [
    "flipkart = flipkart.drop(flipkart[flipkart.flipkart_isbn10.isna()].index, axis=0)"
   ]
  },
  {
   "cell_type": "code",
   "execution_count": 10,
   "metadata": {},
   "outputs": [
    {
     "name": "stderr",
     "output_type": "stream",
     "text": [
      "/home/isht3/anaconda3/envs/env/lib/python3.7/site-packages/scipy/stats/stats.py:1713: FutureWarning: Using a non-tuple sequence for multidimensional indexing is deprecated; use `arr[tuple(seq)]` instead of `arr[seq]`. In the future this will be interpreted as an array index, `arr[np.array(seq)]`, which will result either in an error or a different result.\n",
      "  return np.add.reduce(sorted[indexer] * weights, axis=axis) / sumval\n"
     ]
    },
    {
     "data": {
      "text/plain": [
       "<matplotlib.axes._subplots.AxesSubplot at 0x7f9ad218bb38>"
      ]
     },
     "execution_count": 10,
     "metadata": {},
     "output_type": "execute_result"
    },
    {
     "data": {
      "image/png": "[encoded data removed]",
      "text/plain": [
       "<Figure size 432x288 with 1 Axes>"
      ]
     },
     "metadata": {
      "needs_background": "light"
     },
     "output_type": "display_data"
    }
   ],
   "source": [
    "sns.distplot(flipkart[flipkart.flipkart_price<1000].flipkart_price)"
   ]
  },
  {
   "cell_type": "code",
   "execution_count": 11,
   "metadata": {},
   "outputs": [
    {
     "data": {
      "text/html": [
       "<div>\n",
       "<style scoped>\n",
       "    .dataframe tbody tr th:only-of-type {\n",
       "        vertical-align: middle;\n",
       "    }\n",
       "\n",
       "    .dataframe tbody tr th {\n",
       "        vertical-align: top;\n",
       "    }\n",
       "\n",
       "    .dataframe thead th {\n",
       "        text-align: right;\n",
       "    }\n",
       "</style>\n",
       "<table border=\"1\" class=\"dataframe\">\n",
       "  <thead>\n",
       "    <tr style=\"text-align: right;\">\n",
       "      <th></th>\n",
       "      <th>flipkart_author</th>\n",
       "      <th>flipkart_isbn10</th>\n",
       "      <th>flipkart_title</th>\n",
       "      <th>flipkart_ratings count</th>\n",
       "      <th>flipkart_price</th>\n",
       "      <th>flipkart_stars</th>\n",
       "    </tr>\n",
       "  </thead>\n",
       "  <tbody>\n",
       "    <tr>\n",
       "      <th>0</th>\n",
       "      <td>Khushwant Singh's</td>\n",
       "      <td>41000864</td>\n",
       "      <td>Book of Unforgettable Women</td>\n",
       "      <td>10</td>\n",
       "      <td>280</td>\n",
       "      <td>4.1</td>\n",
       "    </tr>\n",
       "    <tr>\n",
       "      <th>1</th>\n",
       "      <td>Amrita Sharma</td>\n",
       "      <td>43414593</td>\n",
       "      <td>PMR: What Did I Ever See In Him</td>\n",
       "      <td>20</td>\n",
       "      <td>189</td>\n",
       "      <td>2.6</td>\n",
       "    </tr>\n",
       "    <tr>\n",
       "      <th>2</th>\n",
       "      <td>John Gray</td>\n",
       "      <td>172235038</td>\n",
       "      <td>MEN ARE FROM MARS- WOMEN ARE FROM VENUS</td>\n",
       "      <td>2581</td>\n",
       "      <td>209</td>\n",
       "      <td>4.4</td>\n",
       "    </tr>\n",
       "    <tr>\n",
       "      <th>3</th>\n",
       "      <td>Dange Gouri</td>\n",
       "      <td>175994118</td>\n",
       "      <td>Always a Parent</td>\n",
       "      <td></td>\n",
       "      <td>188</td>\n",
       "      <td></td>\n",
       "    </tr>\n",
       "    <tr>\n",
       "      <th>4</th>\n",
       "      <td>Gray John</td>\n",
       "      <td>818677548X</td>\n",
       "      <td>Men are from Mars Women are from Venus</td>\n",
       "      <td>325</td>\n",
       "      <td>96</td>\n",
       "      <td>4.3</td>\n",
       "    </tr>\n",
       "  </tbody>\n",
       "</table>\n",
       "</div>"
      ],
      "text/plain": [
       "       flipkart_author flipkart_isbn10  \\\n",
       "0    Khushwant Singh's        41000864   \n",
       "1        Amrita Sharma        43414593   \n",
       "2            John Gray       172235038   \n",
       "3          Dange Gouri       175994118   \n",
       "4            Gray John      818677548X   \n",
       "\n",
       "                             flipkart_title flipkart_ratings count  \\\n",
       "0               Book of Unforgettable Women                     10   \n",
       "1           PMR: What Did I Ever See In Him                     20   \n",
       "2   MEN ARE FROM MARS- WOMEN ARE FROM VENUS                   2581   \n",
       "3                           Always a Parent                          \n",
       "4    Men are from Mars Women are from Venus                    325   \n",
       "\n",
       "   flipkart_price flipkart_stars  \n",
       "0             280            4.1  \n",
       "1             189            2.6  \n",
       "2             209            4.4  \n",
       "3             188                 \n",
       "4              96            4.3  "
      ]
     },
     "execution_count": 11,
     "metadata": {},
     "output_type": "execute_result"
    }
   ],
   "source": [
    "flipkart.head()"
   ]
  },
  {
   "cell_type": "code",
   "execution_count": 12,
   "metadata": {},
   "outputs": [
    {
     "name": "stdout",
     "output_type": "stream",
     "text": [
      "Number of samples on Flipkart: (17581, 6)\n"
     ]
    }
   ],
   "source": [
    "print(\"Number of samples on Flipkart: {}\".format(flipkart.shape))"
   ]
  },
  {
   "cell_type": "markdown",
   "metadata": {},
   "source": [
    "## Amazon ETL"
   ]
  },
  {
   "cell_type": "code",
   "execution_count": 103,
   "metadata": {},
   "outputs": [],
   "source": [
    "csvs = [\n",
    " '100bookstoread_books.csv',\n",
    " 'accounts_books.csv',\n",
    " 'action_books.csv',\n",
    " 'adult_books.csv',\n",
    " 'adventure_books.csv',\n",
    " 'art_books.csv',\n",
    " 'atlas_books.csv',\n",
    " 'award_winning_books.csv',\n",
    " 'bestsellers.csv',\n",
    " 'biography_books.csv',\n",
    " 'books.csv',\n",
    " 'business_books.csv',\n",
    " 'children_books.csv',\n",
    " 'classic_books.csv',\n",
    " 'comic_books.csv',\n",
    " 'computer_books.csv',\n",
    " 'craft_books.csv',\n",
    " 'crime_books.csv',\n",
    " 'customer_favourite_books.csv',\n",
    " 'development_books.csv',\n",
    " 'diary_books.csv',\n",
    " 'digital_media_books.csv',\n",
    " 'economics_books.csv',\n",
    " 'editors_corner_books.csv',\n",
    " 'encyclopedia_books.csv',\n",
    " 'exam_prep_books.csv',\n",
    " 'family_books.csv',\n",
    " 'fantasy_books.csv',\n",
    " 'fiction_books.csv',\n",
    " 'film_books.csv',\n",
    " 'gk_books.csv',\n",
    " 'health_books.csv',\n",
    " 'history_books.csv',\n",
    " 'home_books.csv',\n",
    " 'horror_books.csv',\n",
    " 'humour_books.csv',\n",
    " 'indian_books.csv',\n",
    " 'internet_books.csv',\n",
    " 'law_books.csv',\n",
    " 'literature_books.csv',\n",
    " 'mangas_books.csv',\n",
    " 'map_books.csv',\n",
    " 'medicine_books.csv',\n",
    " 'memoir_books.csv',\n",
    " 'mystery_books.csv',\n",
    " 'personal_books.csv',\n",
    " 'photography_books.csv',\n",
    " 'political_books.csv',\n",
    " 'reference_books.csv',\n",
    " 'religious_books.csv',\n",
    " 'romance_books.csv',\n",
    " 'science_books.csv',\n",
    " 'self_help_books.csv',\n",
    " 'social_science_books.csv',\n",
    " 'society_books.csv',\n",
    " 'sports_books.csv',\n",
    " 'study_aids_books.csv',\n",
    " 'tech_books.csv',\n",
    " 'text_books.csv',\n",
    " 'thriller_books.csv',\n",
    " 'travel_books.csv',\n",
    " 'true_accounts_books.csv',\n",
    " 'young_adult_books.csv']"
   ]
  },
  {
   "cell_type": "code",
   "execution_count": 104,
   "metadata": {},
   "outputs": [],
   "source": [
    "list_ = []\n",
    "for csv in csvs:\n",
    "    list_.append(pd.read_csv(\"Amazon/Data/{}\".format(str(csv)), error_bad_lines=False))"
   ]
  },
  {
   "cell_type": "code",
   "execution_count": 105,
   "metadata": {},
   "outputs": [],
   "source": [
    "amazon = pd.concat(list_)\n",
    "amazon.head()\n",
    "cols_to_drop = ['URL', 'Binding']\n",
    "amazon.head()\n",
    "amazon = amazon.drop(cols_to_drop, axis=1)\n",
    "amazon.columns = ['amazon_' + col.strip().lower() for col in amazon.columns]"
   ]
  },
  {
   "cell_type": "code",
   "execution_count": 106,
   "metadata": {},
   "outputs": [
    {
     "data": {
      "text/plain": [
       "12371"
      ]
     },
     "execution_count": 106,
     "metadata": {},
     "output_type": "execute_result"
    }
   ],
   "source": [
    "amazon['amazon_isbn-10'].nunique()"
   ]
  },
  {
   "cell_type": "code",
   "execution_count": 107,
   "metadata": {},
   "outputs": [
    {
     "data": {
      "text/html": [
       "<div>\n",
       "<style scoped>\n",
       "    .dataframe tbody tr th:only-of-type {\n",
       "        vertical-align: middle;\n",
       "    }\n",
       "\n",
       "    .dataframe tbody tr th {\n",
       "        vertical-align: top;\n",
       "    }\n",
       "\n",
       "    .dataframe thead th {\n",
       "        text-align: right;\n",
       "    }\n",
       "</style>\n",
       "<table border=\"1\" class=\"dataframe\">\n",
       "  <thead>\n",
       "    <tr style=\"text-align: right;\">\n",
       "      <th></th>\n",
       "      <th>amazon_title</th>\n",
       "      <th>amazon_author</th>\n",
       "      <th>amazon_rating</th>\n",
       "      <th>amazon_reviews count</th>\n",
       "      <th>amazon_isbn-10</th>\n",
       "      <th>amazon_price</th>\n",
       "    </tr>\n",
       "  </thead>\n",
       "  <tbody>\n",
       "    <tr>\n",
       "      <th>0</th>\n",
       "      <td>Teach Your Child to Read in 100 Easy Lessons</td>\n",
       "      <td>by Phyllis Haddox</td>\n",
       "      <td>4.3</td>\n",
       "      <td>14</td>\n",
       "      <td>0671631985</td>\n",
       "      <td>₹1</td>\n",
       "    </tr>\n",
       "    <tr>\n",
       "      <th>1</th>\n",
       "      <td>The Power of Your Subconscious Mind: Unlock Yo...</td>\n",
       "      <td>by Joseph Murphy</td>\n",
       "      <td>4.5</td>\n",
       "      <td>5009</td>\n",
       "      <td>8172345666</td>\n",
       "      <td>₹75</td>\n",
       "    </tr>\n",
       "    <tr>\n",
       "      <th>2</th>\n",
       "      <td>Learn to Read Activity Book: 101 Fun Lessons t...</td>\n",
       "      <td>by Hannah Braun - Import</td>\n",
       "      <td>4.8</td>\n",
       "      <td>93</td>\n",
       "      <td>1939754526</td>\n",
       "      <td>NaN</td>\n",
       "    </tr>\n",
       "    <tr>\n",
       "      <th>3</th>\n",
       "      <td>100 Words Kids Need to Read by 1st Grade</td>\n",
       "      <td>by Terry Cooper</td>\n",
       "      <td>4.6</td>\n",
       "      <td>3</td>\n",
       "      <td>0439399297</td>\n",
       "      <td>₹261</td>\n",
       "    </tr>\n",
       "    <tr>\n",
       "      <th>4</th>\n",
       "      <td>100 Fun Stories for 4-8 Year Olds (Perfect for...</td>\n",
       "      <td>by Sharlene Alexander</td>\n",
       "      <td>2.9</td>\n",
       "      <td>10</td>\n",
       "      <td>B005TA81BG</td>\n",
       "      <td>₹193.52</td>\n",
       "    </tr>\n",
       "  </tbody>\n",
       "</table>\n",
       "</div>"
      ],
      "text/plain": [
       "                                        amazon_title  \\\n",
       "0       Teach Your Child to Read in 100 Easy Lessons   \n",
       "1  The Power of Your Subconscious Mind: Unlock Yo...   \n",
       "2  Learn to Read Activity Book: 101 Fun Lessons t...   \n",
       "3           100 Words Kids Need to Read by 1st Grade   \n",
       "4  100 Fun Stories for 4-8 Year Olds (Perfect for...   \n",
       "\n",
       "              amazon_author amazon_rating amazon_reviews count amazon_isbn-10  \\\n",
       "0         by Phyllis Haddox           4.3                   14     0671631985   \n",
       "1          by Joseph Murphy           4.5                 5009     8172345666   \n",
       "2  by Hannah Braun - Import           4.8                   93     1939754526   \n",
       "3           by Terry Cooper           4.6                    3     0439399297   \n",
       "4     by Sharlene Alexander           2.9                   10     B005TA81BG   \n",
       "\n",
       "  amazon_price  \n",
       "0           ₹1  \n",
       "1          ₹75  \n",
       "2          NaN  \n",
       "3         ₹261  \n",
       "4      ₹193.52  "
      ]
     },
     "execution_count": 107,
     "metadata": {},
     "output_type": "execute_result"
    }
   ],
   "source": [
    "amazon.head()"
   ]
  },
  {
   "cell_type": "code",
   "execution_count": 108,
   "metadata": {},
   "outputs": [],
   "source": [
    "amazon.drop(amazon[amazon.amazon_price == '819336855X'].index, inplace=True)"
   ]
  },
  {
   "cell_type": "code",
   "execution_count": 109,
   "metadata": {},
   "outputs": [],
   "source": [
    "def extract_price(price):    \n",
    "    if price != price:\n",
    "        return np.nan\n",
    "    \n",
    "    if isinstance(price, str):\n",
    "\n",
    "        lprice = price.split(\". \")\n",
    "        if len(lprice) == 2:\n",
    "            return lprice[1]\n",
    "\n",
    "        if price[0].isdigit():\n",
    "            return price\n",
    "        else:\n",
    "            return price[1:]\n",
    "        \n",
    "    elif isinstance(price, float):\n",
    "        return str(price)\n",
    "    elif isinstance(price, int):\n",
    "        return str(price)\n",
    "    else:\n",
    "        print(price)\n",
    "        np.nan"
   ]
  },
  {
   "cell_type": "code",
   "execution_count": 110,
   "metadata": {},
   "outputs": [],
   "source": [
    "price = amazon.amazon_price.apply(extract_price)"
   ]
  },
  {
   "cell_type": "code",
   "execution_count": 116,
   "metadata": {},
   "outputs": [
    {
     "data": {
      "text/plain": [
       "12341"
      ]
     },
     "execution_count": 116,
     "metadata": {},
     "output_type": "execute_result"
    }
   ],
   "source": [
    "amazon['amazon_isbn-10'].nunique()"
   ]
  },
  {
   "cell_type": "code",
   "execution_count": 117,
   "metadata": {},
   "outputs": [],
   "source": [
    "something = set()\n",
    "def func(string):\n",
    "    if string != string:\n",
    "        return np.nan\n",
    "        \n",
    "    if not isinstance(string, float) and '-' in string and not isinstance(string, int) and len(string) > 4:\n",
    "        return np.nan\n",
    "    \n",
    "    if isinstance(string, str):\n",
    "        if '.' in string and ',' in string:\n",
    "            string = string.replace(',', '')\n",
    "            return int(string.split('.')[0])\n",
    "        elif '.' in string:\n",
    "            return int(string.split('.')[0])\n",
    "        elif ',' in string:\n",
    "            return int(string.replace(',', ''))\n",
    "        else:\n",
    "            return int(string)\n",
    "    else:\n",
    "        return int(str)"
   ]
  },
  {
   "cell_type": "code",
   "execution_count": 118,
   "metadata": {},
   "outputs": [],
   "source": [
    "amazon.amazon_price = price.apply(func)"
   ]
  },
  {
   "cell_type": "code",
   "execution_count": 121,
   "metadata": {},
   "outputs": [
    {
     "data": {
      "text/html": [
       "<div>\n",
       "<style scoped>\n",
       "    .dataframe tbody tr th:only-of-type {\n",
       "        vertical-align: middle;\n",
       "    }\n",
       "\n",
       "    .dataframe tbody tr th {\n",
       "        vertical-align: top;\n",
       "    }\n",
       "\n",
       "    .dataframe thead th {\n",
       "        text-align: right;\n",
       "    }\n",
       "</style>\n",
       "<table border=\"1\" class=\"dataframe\">\n",
       "  <thead>\n",
       "    <tr style=\"text-align: right;\">\n",
       "      <th></th>\n",
       "      <th>amazon_title</th>\n",
       "      <th>amazon_author</th>\n",
       "      <th>amazon_rating</th>\n",
       "      <th>amazon_reviews count</th>\n",
       "      <th>amazon_isbn-10</th>\n",
       "      <th>amazon_price</th>\n",
       "    </tr>\n",
       "  </thead>\n",
       "  <tbody>\n",
       "    <tr>\n",
       "      <th>0</th>\n",
       "      <td>Teach Your Child to Read in 100 Easy Lessons</td>\n",
       "      <td>by Phyllis Haddox</td>\n",
       "      <td>4.3</td>\n",
       "      <td>14</td>\n",
       "      <td>0671631985</td>\n",
       "      <td>1.0</td>\n",
       "    </tr>\n",
       "    <tr>\n",
       "      <th>1</th>\n",
       "      <td>The Power of Your Subconscious Mind: Unlock Yo...</td>\n",
       "      <td>by Joseph Murphy</td>\n",
       "      <td>4.5</td>\n",
       "      <td>5009</td>\n",
       "      <td>8172345666</td>\n",
       "      <td>75.0</td>\n",
       "    </tr>\n",
       "    <tr>\n",
       "      <th>2</th>\n",
       "      <td>Learn to Read Activity Book: 101 Fun Lessons t...</td>\n",
       "      <td>by Hannah Braun - Import</td>\n",
       "      <td>4.8</td>\n",
       "      <td>93</td>\n",
       "      <td>1939754526</td>\n",
       "      <td>NaN</td>\n",
       "    </tr>\n",
       "    <tr>\n",
       "      <th>3</th>\n",
       "      <td>100 Words Kids Need to Read by 1st Grade</td>\n",
       "      <td>by Terry Cooper</td>\n",
       "      <td>4.6</td>\n",
       "      <td>3</td>\n",
       "      <td>0439399297</td>\n",
       "      <td>261.0</td>\n",
       "    </tr>\n",
       "    <tr>\n",
       "      <th>4</th>\n",
       "      <td>100 Fun Stories for 4-8 Year Olds (Perfect for...</td>\n",
       "      <td>by Sharlene Alexander</td>\n",
       "      <td>2.9</td>\n",
       "      <td>10</td>\n",
       "      <td>B005TA81BG</td>\n",
       "      <td>193.0</td>\n",
       "    </tr>\n",
       "  </tbody>\n",
       "</table>\n",
       "</div>"
      ],
      "text/plain": [
       "                                        amazon_title  \\\n",
       "0       Teach Your Child to Read in 100 Easy Lessons   \n",
       "1  The Power of Your Subconscious Mind: Unlock Yo...   \n",
       "2  Learn to Read Activity Book: 101 Fun Lessons t...   \n",
       "3           100 Words Kids Need to Read by 1st Grade   \n",
       "4  100 Fun Stories for 4-8 Year Olds (Perfect for...   \n",
       "\n",
       "              amazon_author amazon_rating amazon_reviews count amazon_isbn-10  \\\n",
       "0         by Phyllis Haddox           4.3                   14     0671631985   \n",
       "1          by Joseph Murphy           4.5                 5009     8172345666   \n",
       "2  by Hannah Braun - Import           4.8                   93     1939754526   \n",
       "3           by Terry Cooper           4.6                    3     0439399297   \n",
       "4     by Sharlene Alexander           2.9                   10     B005TA81BG   \n",
       "\n",
       "   amazon_price  \n",
       "0           1.0  \n",
       "1          75.0  \n",
       "2           NaN  \n",
       "3         261.0  \n",
       "4         193.0  "
      ]
     },
     "execution_count": 121,
     "metadata": {},
     "output_type": "execute_result"
    }
   ],
   "source": [
    "amazon.head()"
   ]
  },
  {
   "cell_type": "code",
   "execution_count": 122,
   "metadata": {},
   "outputs": [
    {
     "data": {
      "text/plain": [
       "(2059, 6)"
      ]
     },
     "execution_count": 122,
     "metadata": {},
     "output_type": "execute_result"
    }
   ],
   "source": [
    "amazon = amazon.drop(amazon[amazon.amazon_price.isna()].index, axis=0)"
   ]
  },
  {
   "cell_type": "code",
   "execution_count": 94,
   "metadata": {},
   "outputs": [],
   "source": [
    "# Remove the books which are free.\n",
    "\n",
    "amazon = amazon[amazon.amazon_price > 0]"
   ]
  },
  {
   "cell_type": "code",
   "execution_count": 97,
   "metadata": {},
   "outputs": [
    {
     "data": {
      "text/plain": [
       "<matplotlib.axes._subplots.AxesSubplot at 0x7f9accabb550>"
      ]
     },
     "execution_count": 97,
     "metadata": {},
     "output_type": "execute_result"
    },
    {
     "data": {
      "image/png": "[encoded data removed]",
      "text/plain": [
       "<Figure size 432x288 with 1 Axes>"
      ]
     },
     "metadata": {
      "needs_background": "light"
     },
     "output_type": "display_data"
    }
   ],
   "source": [
    "sns.distplot(amazon.amazon_price, kde=False)"
   ]
  },
  {
   "cell_type": "markdown",
   "metadata": {},
   "source": [
    "# Merge the Dataframes: Amazon and Flipkart"
   ]
  },
  {
   "cell_type": "code",
   "execution_count": 123,
   "metadata": {},
   "outputs": [
    {
     "data": {
      "text/plain": [
       "12341"
      ]
     },
     "execution_count": 123,
     "metadata": {},
     "output_type": "execute_result"
    }
   ],
   "source": [
    "amazon_isbn = list(set(amazon['amazon_isbn-10']))\n",
    "len(amazon_isbn)"
   ]
  },
  {
   "cell_type": "code",
   "execution_count": 124,
   "metadata": {},
   "outputs": [
    {
     "data": {
      "text/plain": [
       "13052"
      ]
     },
     "execution_count": 124,
     "metadata": {},
     "output_type": "execute_result"
    }
   ],
   "source": [
    "flipkart_isbn = list(set(flipkart.flipkart_isbn10))\n",
    "len(flipkart_isbn)"
   ]
  },
  {
   "cell_type": "code",
   "execution_count": 125,
   "metadata": {},
   "outputs": [
    {
     "data": {
      "text/plain": [
       "103"
      ]
     },
     "execution_count": 125,
     "metadata": {},
     "output_type": "execute_result"
    }
   ],
   "source": [
    "len(set(flipkart_isbn).intersection(set(amazon_isbn)))"
   ]
  },
  {
   "cell_type": "markdown",
   "metadata": {},
   "source": [
    "Consensus: The removed books were amazon exclusive."
   ]
  },
  {
   "cell_type": "code",
   "execution_count": null,
   "metadata": {},
   "outputs": [],
   "source": []
  }
 ],
 "metadata": {
  "kernelspec": {
   "display_name": "Python 3",
   "language": "python",
   "name": "python3"
  },
  "language_info": {
   "codemirror_mode": {
    "name": "ipython",
    "version": 3
   },
   "file_extension": ".py",
   "mimetype": "text/x-python",
   "name": "python",
   "nbconvert_exporter": "python",
   "pygments_lexer": "ipython3",
   "version": "3.7.1"
  }
 },
 "nbformat": 4,
 "nbformat_minor": 2
}
