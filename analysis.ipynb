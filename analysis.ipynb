{
 "cells": [
  {
   "cell_type": "markdown",
   "metadata": {},
   "source": [
    "# ETL on books from Amazon and Flipkart"
   ]
  },
  {
   "cell_type": "code",
   "execution_count": 1,
   "metadata": {},
   "outputs": [],
   "source": [
    "import pandas as pd\n",
    "import numpy as np\n",
    "import seaborn as sns\n",
    "import matplotlib.pyplot as plt"
   ]
  },
  {
   "cell_type": "markdown",
   "metadata": {},
   "source": [
    "## Flipkart ETL"
   ]
  },
  {
   "cell_type": "code",
   "execution_count": 2,
   "metadata": {},
   "outputs": [
    {
     "data": {
      "text/html": [
       "<div>\n",
       "<style scoped>\n",
       "    .dataframe tbody tr th:only-of-type {\n",
       "        vertical-align: middle;\n",
       "    }\n",
       "\n",
       "    .dataframe tbody tr th {\n",
       "        vertical-align: top;\n",
       "    }\n",
       "\n",
       "    .dataframe thead th {\n",
       "        text-align: right;\n",
       "    }\n",
       "</style>\n",
       "<table border=\"1\" class=\"dataframe\">\n",
       "  <thead>\n",
       "    <tr style=\"text-align: right;\">\n",
       "      <th></th>\n",
       "      <th>price</th>\n",
       "      <th>title</th>\n",
       "      <th>author</th>\n",
       "      <th>stars</th>\n",
       "      <th>ratings count</th>\n",
       "      <th>reviews count</th>\n",
       "      <th>language</th>\n",
       "      <th>binding</th>\n",
       "      <th>publisher</th>\n",
       "      <th>genre</th>\n",
       "      <th>isbn10</th>\n",
       "      <th>isbn13(double click to view)</th>\n",
       "      <th>pages</th>\n",
       "      <th>edition</th>\n",
       "    </tr>\n",
       "  </thead>\n",
       "  <tbody>\n",
       "    <tr>\n",
       "      <th>0</th>\n",
       "      <td>Rs: 229</td>\n",
       "      <td>Homo Deus</td>\n",
       "      <td>Harari Yuval Noah</td>\n",
       "      <td>4.5</td>\n",
       "      <td>327</td>\n",
       "      <td>23</td>\n",
       "      <td>English</td>\n",
       "      <td>Paperback</td>\n",
       "      <td>Penguin</td>\n",
       "      <td>Social Science</td>\n",
       "      <td>1784703931</td>\n",
       "      <td>9781784703936</td>\n",
       "      <td>528</td>\n",
       "      <td>2017</td>\n",
       "    </tr>\n",
       "    <tr>\n",
       "      <th>1</th>\n",
       "      <td>Rs: 573</td>\n",
       "      <td>Homo Deus - A Brief History of Tomorrow</td>\n",
       "      <td>Yuval Noah Harari</td>\n",
       "      <td>4.6</td>\n",
       "      <td>126</td>\n",
       "      <td>7</td>\n",
       "      <td>English</td>\n",
       "      <td>Paperback</td>\n",
       "      <td>Penguin</td>\n",
       "      <td>Popular science</td>\n",
       "      <td>1910701882</td>\n",
       "      <td>9781910701881</td>\n",
       "      <td>448</td>\n",
       "      <td>2016</td>\n",
       "    </tr>\n",
       "    <tr>\n",
       "      <th>2</th>\n",
       "      <td>Rs: 427</td>\n",
       "      <td>Quantitative Aptitude for Competitive Examina...</td>\n",
       "      <td>Aggarwal R. S.</td>\n",
       "      <td>4.4</td>\n",
       "      <td>15052</td>\n",
       "      <td>1944</td>\n",
       "      <td>English</td>\n",
       "      <td>Paperback</td>\n",
       "      <td>Schand</td>\n",
       "      <td>Education</td>\n",
       "      <td>9352534026</td>\n",
       "      <td>9789352534029</td>\n",
       "      <td></td>\n",
       "      <td></td>\n",
       "    </tr>\n",
       "    <tr>\n",
       "      <th>3</th>\n",
       "      <td>Rs: 605</td>\n",
       "      <td>A Modern Approach to Verbal &amp; Non-Verbal Reas...</td>\n",
       "      <td>unknown</td>\n",
       "      <td>4.3</td>\n",
       "      <td>1432</td>\n",
       "      <td>169</td>\n",
       "      <td>English</td>\n",
       "      <td>Paperback</td>\n",
       "      <td>Schand</td>\n",
       "      <td>Education</td>\n",
       "      <td>9352535316</td>\n",
       "      <td>9789352535316</td>\n",
       "      <td></td>\n",
       "      <td></td>\n",
       "    </tr>\n",
       "    <tr>\n",
       "      <th>4</th>\n",
       "      <td>Rs: 580</td>\n",
       "      <td>RRB (Railway Recruitment Board) 2019 - Junior...</td>\n",
       "      <td>GKP</td>\n",
       "      <td>4.3</td>\n",
       "      <td>47</td>\n",
       "      <td>8</td>\n",
       "      <td>ENGLISH</td>\n",
       "      <td>Paperback</td>\n",
       "      <td>G.K.PUB</td>\n",
       "      <td>COMPETITIVE EXAM</td>\n",
       "      <td>9388426843</td>\n",
       "      <td>9789388426848</td>\n",
       "      <td></td>\n",
       "      <td>2019</td>\n",
       "    </tr>\n",
       "  </tbody>\n",
       "</table>\n",
       "</div>"
      ],
      "text/plain": [
       "     price                                              title  \\\n",
       "0  Rs: 229                                          Homo Deus   \n",
       "1  Rs: 573            Homo Deus - A Brief History of Tomorrow   \n",
       "2  Rs: 427   Quantitative Aptitude for Competitive Examina...   \n",
       "3  Rs: 605   A Modern Approach to Verbal & Non-Verbal Reas...   \n",
       "4  Rs: 580   RRB (Railway Recruitment Board) 2019 - Junior...   \n",
       "\n",
       "                author stars ratings count reviews count language    binding  \\\n",
       "0    Harari Yuval Noah   4.5           327            23  English  Paperback   \n",
       "1    Yuval Noah Harari   4.6           126             7  English  Paperback   \n",
       "2       Aggarwal R. S.   4.4         15052          1944  English  Paperback   \n",
       "3              unknown   4.3          1432           169  English  Paperback   \n",
       "4                  GKP   4.3            47             8  ENGLISH  Paperback   \n",
       "\n",
       "  publisher             genre       isbn10 isbn13(double click to view) pages  \\\n",
       "0   Penguin    Social Science   1784703931               9781784703936    528   \n",
       "1   Penguin   Popular science   1910701882               9781910701881    448   \n",
       "2    Schand         Education   9352534026               9789352534029          \n",
       "3    Schand         Education   9352535316               9789352535316          \n",
       "4   G.K.PUB  COMPETITIVE EXAM   9388426843               9789388426848          \n",
       "\n",
       "  edition  \n",
       "0    2017  \n",
       "1    2016  \n",
       "2          \n",
       "3          \n",
       "4    2019  "
      ]
     },
     "execution_count": 2,
     "metadata": {},
     "output_type": "execute_result"
    }
   ],
   "source": [
    "flipkart = pd.read_csv('flipkart.csv')\n",
    "cols_to_drop = ['URL']\n",
    "flipkart = flipkart.drop(cols_to_drop, axis=1)\n",
    "flipkart.columns = [col.strip().lower() for col in flipkart.columns]\n",
    "flipkart.head()"
   ]
  },
  {
   "cell_type": "code",
   "execution_count": 5,
   "metadata": {},
   "outputs": [],
   "source": [
    "def extract_price(string):\n",
    "    price = string.split(\": \")\n",
    "    if len(price) == 2 and price[1].isdigit():\n",
    "        return int(price[1])\n",
    "    else:\n",
    "        np.nan"
   ]
  },
  {
   "cell_type": "code",
   "execution_count": 6,
   "metadata": {},
   "outputs": [],
   "source": [
    "price = flipkart.iloc[:, 0].apply(extract_price)\n",
    "flipkart['price'] = price"
   ]
  },
  {
   "cell_type": "code",
   "execution_count": 7,
   "metadata": {},
   "outputs": [],
   "source": [
    "na_index = price[price.isna()].index\n",
    "flipkart = flipkart.drop(na_index, axis=0)\n",
    "flipkart = flipkart[['author', 'isbn10', 'title', 'ratings count', 'price', 'stars']]\n",
    "flipkart.columns = ['flipkart_' + col.strip().lower() for col in flipkart.columns]\n",
    "flipkart.flipkart_price = flipkart.flipkart_price.astype('int64')"
   ]
  },
  {
   "cell_type": "code",
   "execution_count": 11,
   "metadata": {},
   "outputs": [
    {
     "name": "stderr",
     "output_type": "stream",
     "text": [
      "/home/isht3/anaconda3/envs/env/lib/python3.7/site-packages/scipy/stats/stats.py:1713: FutureWarning: Using a non-tuple sequence for multidimensional indexing is deprecated; use `arr[tuple(seq)]` instead of `arr[seq]`. In the future this will be interpreted as an array index, `arr[np.array(seq)]`, which will result either in an error or a different result.\n",
      "  return np.add.reduce(sorted[indexer] * weights, axis=axis) / sumval\n"
     ]
    },
    {
     "data": {
      "text/plain": [
       "<matplotlib.axes._subplots.AxesSubplot at 0x7f7084790198>"
      ]
     },
     "execution_count": 11,
     "metadata": {},
     "output_type": "execute_result"
    },
    {
     "data": {
      "image/png": "[encoded data removed]",
      "text/plain": [
       "<Figure size 432x288 with 1 Axes>"
      ]
     },
     "metadata": {
      "needs_background": "light"
     },
     "output_type": "display_data"
    }
   ],
   "source": [
    "sns.distplot(flipkart[flipkart.flipkart_price<1000].flipkart_price)"
   ]
  },
  {
   "cell_type": "code",
   "execution_count": 15,
   "metadata": {},
   "outputs": [
    {
     "data": {
      "text/html": [
       "<div>\n",
       "<style scoped>\n",
       "    .dataframe tbody tr th:only-of-type {\n",
       "        vertical-align: middle;\n",
       "    }\n",
       "\n",
       "    .dataframe tbody tr th {\n",
       "        vertical-align: top;\n",
       "    }\n",
       "\n",
       "    .dataframe thead th {\n",
       "        text-align: right;\n",
       "    }\n",
       "</style>\n",
       "<table border=\"1\" class=\"dataframe\">\n",
       "  <thead>\n",
       "    <tr style=\"text-align: right;\">\n",
       "      <th></th>\n",
       "      <th>flipkart_author</th>\n",
       "      <th>flipkart_isbn10</th>\n",
       "      <th>flipkart_title</th>\n",
       "      <th>flipkart_ratings count</th>\n",
       "      <th>flipkart_price</th>\n",
       "      <th>flipkart_stars</th>\n",
       "    </tr>\n",
       "  </thead>\n",
       "  <tbody>\n",
       "    <tr>\n",
       "      <th>0</th>\n",
       "      <td>Harari Yuval Noah</td>\n",
       "      <td>1784703931</td>\n",
       "      <td>Homo Deus</td>\n",
       "      <td>327</td>\n",
       "      <td>229</td>\n",
       "      <td>4.5</td>\n",
       "    </tr>\n",
       "    <tr>\n",
       "      <th>1</th>\n",
       "      <td>Yuval Noah Harari</td>\n",
       "      <td>1910701882</td>\n",
       "      <td>Homo Deus - A Brief History of Tomorrow</td>\n",
       "      <td>126</td>\n",
       "      <td>573</td>\n",
       "      <td>4.6</td>\n",
       "    </tr>\n",
       "    <tr>\n",
       "      <th>2</th>\n",
       "      <td>Aggarwal R. S.</td>\n",
       "      <td>9352534026</td>\n",
       "      <td>Quantitative Aptitude for Competitive Examina...</td>\n",
       "      <td>15052</td>\n",
       "      <td>427</td>\n",
       "      <td>4.4</td>\n",
       "    </tr>\n",
       "    <tr>\n",
       "      <th>3</th>\n",
       "      <td>unknown</td>\n",
       "      <td>9352535316</td>\n",
       "      <td>A Modern Approach to Verbal &amp; Non-Verbal Reas...</td>\n",
       "      <td>1432</td>\n",
       "      <td>605</td>\n",
       "      <td>4.3</td>\n",
       "    </tr>\n",
       "    <tr>\n",
       "      <th>4</th>\n",
       "      <td>GKP</td>\n",
       "      <td>9388426843</td>\n",
       "      <td>RRB (Railway Recruitment Board) 2019 - Junior...</td>\n",
       "      <td>47</td>\n",
       "      <td>580</td>\n",
       "      <td>4.3</td>\n",
       "    </tr>\n",
       "  </tbody>\n",
       "</table>\n",
       "</div>"
      ],
      "text/plain": [
       "       flipkart_author flipkart_isbn10  \\\n",
       "0    Harari Yuval Noah      1784703931   \n",
       "1    Yuval Noah Harari      1910701882   \n",
       "2       Aggarwal R. S.      9352534026   \n",
       "3              unknown      9352535316   \n",
       "4                  GKP      9388426843   \n",
       "\n",
       "                                      flipkart_title flipkart_ratings count  \\\n",
       "0                                          Homo Deus                    327   \n",
       "1            Homo Deus - A Brief History of Tomorrow                    126   \n",
       "2   Quantitative Aptitude for Competitive Examina...                  15052   \n",
       "3   A Modern Approach to Verbal & Non-Verbal Reas...                   1432   \n",
       "4   RRB (Railway Recruitment Board) 2019 - Junior...                     47   \n",
       "\n",
       "   flipkart_price flipkart_stars  \n",
       "0             229            4.5  \n",
       "1             573            4.6  \n",
       "2             427            4.4  \n",
       "3             605            4.3  \n",
       "4             580            4.3  "
      ]
     },
     "execution_count": 15,
     "metadata": {},
     "output_type": "execute_result"
    }
   ],
   "source": [
    "flipkart.head()"
   ]
  },
  {
   "cell_type": "markdown",
   "metadata": {},
   "source": [
    "## Amazon ETL"
   ]
  },
  {
   "cell_type": "code",
   "execution_count": 47,
   "metadata": {},
   "outputs": [],
   "source": [
    "csvs = [\n",
    "#  'bestsellers.csv',\n",
    " 'biography_books.csv',\n",
    " 'books.csv',\n",
    " 'children_books.csv',\n",
    " 'comic_books.csv',\n",
    " 'encyclopedia_books.csv',\n",
    " 'gk_books.csv',\n",
    " 'history_books.csv',\n",
    " 'literature_books.csv',\n",
    " 'science_books.csv',\n",
    " 'self_help_books.csv']"
   ]
  },
  {
   "cell_type": "code",
   "execution_count": 48,
   "metadata": {},
   "outputs": [
    {
     "name": "stdout",
     "output_type": "stream",
     "text": [
      "biography_books.csv\n",
      "books.csv\n",
      "children_books.csv\n",
      "comic_books.csv\n",
      "encyclopedia_books.csv\n",
      "gk_books.csv\n",
      "history_books.csv\n",
      "literature_books.csv\n",
      "science_books.csv\n",
      "self_help_books.csv\n"
     ]
    },
    {
     "name": "stderr",
     "output_type": "stream",
     "text": [
      "b'Skipping line 102: expected 8 fields, saw 12\\nSkipping line 120: expected 8 fields, saw 9\\nSkipping line 148: expected 8 fields, saw 9\\nSkipping line 158: expected 8 fields, saw 9\\nSkipping line 182: expected 8 fields, saw 9\\nSkipping line 209: expected 8 fields, saw 10\\nSkipping line 211: expected 8 fields, saw 9\\nSkipping line 212: expected 8 fields, saw 9\\nSkipping line 226: expected 8 fields, saw 9\\nSkipping line 238: expected 8 fields, saw 9\\nSkipping line 250: expected 8 fields, saw 9\\n'\n",
      "b'Skipping line 236: expected 8 fields, saw 9\\nSkipping line 251: expected 8 fields, saw 9\\nSkipping line 256: expected 8 fields, saw 9\\nSkipping line 263: expected 8 fields, saw 9\\nSkipping line 298: expected 8 fields, saw 9\\n'\n",
      "b'Skipping line 17: expected 8 fields, saw 9\\nSkipping line 30: expected 8 fields, saw 9\\nSkipping line 43: expected 8 fields, saw 9\\nSkipping line 88: expected 8 fields, saw 9\\nSkipping line 123: expected 8 fields, saw 9\\nSkipping line 127: expected 8 fields, saw 9\\nSkipping line 140: expected 8 fields, saw 9\\nSkipping line 143: expected 8 fields, saw 9\\nSkipping line 155: expected 8 fields, saw 9\\nSkipping line 158: expected 8 fields, saw 9\\nSkipping line 166: expected 8 fields, saw 9\\nSkipping line 208: expected 8 fields, saw 9\\nSkipping line 213: expected 8 fields, saw 9\\nSkipping line 232: expected 8 fields, saw 9\\nSkipping line 247: expected 8 fields, saw 9\\nSkipping line 259: expected 8 fields, saw 9\\nSkipping line 273: expected 8 fields, saw 9\\nSkipping line 280: expected 8 fields, saw 9\\nSkipping line 282: expected 8 fields, saw 9\\nSkipping line 285: expected 8 fields, saw 9\\nSkipping line 290: expected 8 fields, saw 9\\n'\n",
      "b'Skipping line 12: expected 8 fields, saw 9\\nSkipping line 14: expected 8 fields, saw 9\\nSkipping line 26: expected 8 fields, saw 9\\nSkipping line 44: expected 8 fields, saw 9\\nSkipping line 50: expected 8 fields, saw 9\\nSkipping line 51: expected 8 fields, saw 9\\nSkipping line 54: expected 8 fields, saw 9\\nSkipping line 65: expected 8 fields, saw 9\\nSkipping line 70: expected 8 fields, saw 9\\nSkipping line 79: expected 8 fields, saw 9\\nSkipping line 89: expected 8 fields, saw 9\\nSkipping line 91: expected 8 fields, saw 9\\nSkipping line 94: expected 8 fields, saw 9\\nSkipping line 96: expected 8 fields, saw 9\\nSkipping line 98: expected 8 fields, saw 9\\nSkipping line 99: expected 8 fields, saw 9\\nSkipping line 100: expected 8 fields, saw 9\\nSkipping line 102: expected 8 fields, saw 9\\nSkipping line 106: expected 8 fields, saw 9\\nSkipping line 108: expected 8 fields, saw 9\\nSkipping line 109: expected 8 fields, saw 9\\nSkipping line 112: expected 8 fields, saw 9\\nSkipping line 113: expected 8 fields, saw 9\\nSkipping line 115: expected 8 fields, saw 9\\nSkipping line 116: expected 8 fields, saw 9\\nSkipping line 132: expected 8 fields, saw 9\\nSkipping line 138: expected 8 fields, saw 9\\nSkipping line 142: expected 8 fields, saw 9\\nSkipping line 144: expected 8 fields, saw 9\\nSkipping line 155: expected 8 fields, saw 9\\nSkipping line 158: expected 8 fields, saw 9\\nSkipping line 161: expected 8 fields, saw 9\\nSkipping line 163: expected 8 fields, saw 9\\nSkipping line 175: expected 8 fields, saw 9\\nSkipping line 179: expected 8 fields, saw 9\\nSkipping line 189: expected 8 fields, saw 9\\nSkipping line 198: expected 8 fields, saw 9\\nSkipping line 203: expected 8 fields, saw 9\\nSkipping line 206: expected 8 fields, saw 9\\nSkipping line 208: expected 8 fields, saw 9\\nSkipping line 210: expected 8 fields, saw 9\\nSkipping line 215: expected 8 fields, saw 9\\nSkipping line 216: expected 8 fields, saw 9\\nSkipping line 221: expected 8 fields, saw 9\\nSkipping line 238: expected 8 fields, saw 9\\nSkipping line 240: expected 8 fields, saw 9\\nSkipping line 244: expected 8 fields, saw 9\\nSkipping line 245: expected 8 fields, saw 9\\nSkipping line 247: expected 8 fields, saw 9\\nSkipping line 254: expected 8 fields, saw 9\\nSkipping line 258: expected 8 fields, saw 9\\nSkipping line 259: expected 8 fields, saw 9\\nSkipping line 262: expected 8 fields, saw 9\\nSkipping line 265: expected 8 fields, saw 9\\nSkipping line 272: expected 8 fields, saw 9\\nSkipping line 274: expected 8 fields, saw 9\\nSkipping line 282: expected 8 fields, saw 9\\nSkipping line 286: expected 8 fields, saw 9\\nSkipping line 294: expected 8 fields, saw 9\\nSkipping line 296: expected 8 fields, saw 9\\nSkipping line 301: expected 8 fields, saw 11\\nSkipping line 305: expected 8 fields, saw 9\\nSkipping line 306: expected 8 fields, saw 9\\n'\n",
      "b'Skipping line 40: expected 8 fields, saw 9\\nSkipping line 84: expected 8 fields, saw 9\\nSkipping line 88: expected 8 fields, saw 9\\nSkipping line 133: expected 8 fields, saw 9\\nSkipping line 150: expected 8 fields, saw 9\\nSkipping line 178: expected 8 fields, saw 9\\nSkipping line 195: expected 8 fields, saw 9\\nSkipping line 219: expected 8 fields, saw 9\\nSkipping line 223: expected 8 fields, saw 9\\nSkipping line 243: expected 8 fields, saw 9\\nSkipping line 277: expected 8 fields, saw 9\\n'\n",
      "b'Skipping line 37: expected 8 fields, saw 9\\nSkipping line 92: expected 8 fields, saw 9\\nSkipping line 159: expected 8 fields, saw 10\\nSkipping line 160: expected 8 fields, saw 9\\nSkipping line 166: expected 8 fields, saw 9\\nSkipping line 205: expected 8 fields, saw 9\\nSkipping line 207: expected 8 fields, saw 9\\nSkipping line 282: expected 8 fields, saw 9\\nSkipping line 285: expected 8 fields, saw 9\\nSkipping line 291: expected 8 fields, saw 9\\nSkipping line 298: expected 8 fields, saw 9\\n'\n",
      "b'Skipping line 101: expected 8 fields, saw 9\\nSkipping line 104: expected 8 fields, saw 9\\nSkipping line 107: expected 8 fields, saw 9\\nSkipping line 108: expected 8 fields, saw 9\\nSkipping line 111: expected 8 fields, saw 9\\nSkipping line 113: expected 8 fields, saw 9\\nSkipping line 114: expected 8 fields, saw 9\\nSkipping line 115: expected 8 fields, saw 9\\nSkipping line 116: expected 8 fields, saw 9\\nSkipping line 119: expected 8 fields, saw 9\\nSkipping line 150: expected 8 fields, saw 10\\nSkipping line 178: expected 8 fields, saw 9\\nSkipping line 186: expected 8 fields, saw 9\\nSkipping line 194: expected 8 fields, saw 9\\nSkipping line 200: expected 8 fields, saw 9\\nSkipping line 202: expected 8 fields, saw 9\\nSkipping line 204: expected 8 fields, saw 9\\nSkipping line 209: expected 8 fields, saw 9\\nSkipping line 218: expected 8 fields, saw 9\\nSkipping line 220: expected 8 fields, saw 9\\nSkipping line 225: expected 8 fields, saw 9\\nSkipping line 231: expected 8 fields, saw 9\\nSkipping line 264: expected 8 fields, saw 9\\nSkipping line 283: expected 8 fields, saw 9\\nSkipping line 289: expected 8 fields, saw 9\\nSkipping line 292: expected 8 fields, saw 9\\nSkipping line 294: expected 8 fields, saw 9\\nSkipping line 300: expected 8 fields, saw 9\\n'\n",
      "b'Skipping line 26: expected 8 fields, saw 9\\nSkipping line 30: expected 8 fields, saw 9\\nSkipping line 42: expected 8 fields, saw 9\\nSkipping line 49: expected 8 fields, saw 9\\nSkipping line 63: expected 8 fields, saw 11\\nSkipping line 76: expected 8 fields, saw 9\\nSkipping line 88: expected 8 fields, saw 9\\nSkipping line 95: expected 8 fields, saw 9\\nSkipping line 103: expected 8 fields, saw 9\\nSkipping line 127: expected 8 fields, saw 9\\nSkipping line 144: expected 8 fields, saw 9\\nSkipping line 156: expected 8 fields, saw 9\\nSkipping line 164: expected 8 fields, saw 9\\nSkipping line 178: expected 8 fields, saw 9\\nSkipping line 214: expected 8 fields, saw 9\\nSkipping line 244: expected 8 fields, saw 9\\nSkipping line 250: expected 8 fields, saw 9\\nSkipping line 280: expected 8 fields, saw 9\\nSkipping line 288: expected 8 fields, saw 9\\nSkipping line 294: expected 8 fields, saw 9\\n'\n",
      "b'Skipping line 106: expected 8 fields, saw 9\\nSkipping line 109: expected 8 fields, saw 9\\nSkipping line 156: expected 8 fields, saw 9\\nSkipping line 163: expected 8 fields, saw 9\\nSkipping line 210: expected 8 fields, saw 9\\nSkipping line 212: expected 8 fields, saw 9\\nSkipping line 215: expected 8 fields, saw 12\\nSkipping line 237: expected 8 fields, saw 9\\nSkipping line 278: expected 8 fields, saw 9\\n'\n"
     ]
    }
   ],
   "source": [
    "list_ = []\n",
    "for csv in csvs:\n",
    "    print(csv)\n",
    "    list_.append(pd.read_csv(csv, error_bad_lines=False))"
   ]
  },
  {
   "cell_type": "code",
   "execution_count": 49,
   "metadata": {},
   "outputs": [],
   "source": [
    "amazon = pd.concat(list_)\n",
    "amazon.head()\n",
    "cols_to_drop = ['URL', 'Binding']\n",
    "amazon.head()\n",
    "amazon = amazon.drop(cols_to_drop, axis=1)\n",
    "amazon.columns = ['amazon_' + col.strip().lower() for col in amazon.columns]"
   ]
  },
  {
   "cell_type": "code",
   "execution_count": 50,
   "metadata": {},
   "outputs": [
    {
     "data": {
      "text/plain": [
       "2515"
      ]
     },
     "execution_count": 50,
     "metadata": {},
     "output_type": "execute_result"
    }
   ],
   "source": [
    "amazon['amazon_isbn-10'].nunique()"
   ]
  },
  {
   "cell_type": "code",
   "execution_count": 53,
   "metadata": {},
   "outputs": [],
   "source": [
    "def extract_price(price):    \n",
    "    if price != price:\n",
    "        return np.nan\n",
    "    \n",
    "    if isinstance(price, str):\n",
    "\n",
    "        lprice = price.split(\". \")\n",
    "        if len(lprice) == 2:\n",
    "            return lprice[1]\n",
    "\n",
    "        if price[0].isdigit():\n",
    "            return price\n",
    "        else:\n",
    "            return price[1:]\n",
    "        \n",
    "    elif isinstance(price, float):\n",
    "        return str(price)\n",
    "    elif isinstance(price, int):\n",
    "        return str(price)\n",
    "    else:\n",
    "        print(price)\n",
    "        np.nan"
   ]
  },
  {
   "cell_type": "code",
   "execution_count": 54,
   "metadata": {},
   "outputs": [],
   "source": [
    "price = amazon.amazon_price.apply(extract_price)"
   ]
  },
  {
   "cell_type": "code",
   "execution_count": 55,
   "metadata": {},
   "outputs": [],
   "source": [
    "something = set()\n",
    "def func(string):\n",
    "    if string != string:\n",
    "        return np.nan\n",
    "\n",
    "    if not isinstance(string, float) and '-' in string and not isinstance(string, int) and len(string) > 4:\n",
    "        return np.nan\n",
    "    \n",
    "    if isinstance(string, str):\n",
    "        if '.' in string and ',' in string:\n",
    "            string = string.replace(',', '')\n",
    "            return int(string.split('.')[0])\n",
    "        elif '.' in string:\n",
    "            return int(string.split('.')[0])\n",
    "        elif ',' in string:\n",
    "            return int(string.replace(',', ''))\n",
    "        else:\n",
    "            return int(string)\n",
    "    else:\n",
    "        return int(str)"
   ]
  },
  {
   "cell_type": "code",
   "execution_count": 56,
   "metadata": {},
   "outputs": [],
   "source": [
    "amazon.amazon_price = price.apply(func)"
   ]
  },
  {
   "cell_type": "code",
   "execution_count": 57,
   "metadata": {},
   "outputs": [
    {
     "data": {
      "text/html": [
       "<div>\n",
       "<style scoped>\n",
       "    .dataframe tbody tr th:only-of-type {\n",
       "        vertical-align: middle;\n",
       "    }\n",
       "\n",
       "    .dataframe tbody tr th {\n",
       "        vertical-align: top;\n",
       "    }\n",
       "\n",
       "    .dataframe thead th {\n",
       "        text-align: right;\n",
       "    }\n",
       "</style>\n",
       "<table border=\"1\" class=\"dataframe\">\n",
       "  <thead>\n",
       "    <tr style=\"text-align: right;\">\n",
       "      <th></th>\n",
       "      <th>amazon_title</th>\n",
       "      <th>amazon_author</th>\n",
       "      <th>amazon_rating</th>\n",
       "      <th>amazon_reviews count</th>\n",
       "      <th>amazon_isbn-10</th>\n",
       "      <th>amazon_price</th>\n",
       "    </tr>\n",
       "  </thead>\n",
       "  <tbody>\n",
       "    <tr>\n",
       "      <th>0</th>\n",
       "      <td>Wings of Fire: An Autobiography of Abdul Kalam</td>\n",
       "      <td>by Arun Tiwari</td>\n",
       "      <td>4.6</td>\n",
       "      <td>2133.0</td>\n",
       "      <td>8173711461</td>\n",
       "      <td>194.0</td>\n",
       "    </tr>\n",
       "    <tr>\n",
       "      <th>1</th>\n",
       "      <td>Steve Jobs</td>\n",
       "      <td>by Walter Isaacson</td>\n",
       "      <td>4.6</td>\n",
       "      <td>693.0</td>\n",
       "      <td>034914043X</td>\n",
       "      <td>302.0</td>\n",
       "    </tr>\n",
       "    <tr>\n",
       "      <th>2</th>\n",
       "      <td>Mein Kampf</td>\n",
       "      <td>by Adolf Hitler</td>\n",
       "      <td>4.0</td>\n",
       "      <td>480.0</td>\n",
       "      <td>8172345429</td>\n",
       "      <td>89.0</td>\n",
       "    </tr>\n",
       "    <tr>\n",
       "      <th>3</th>\n",
       "      <td>Becoming</td>\n",
       "      <td>by Michelle Obama - Import</td>\n",
       "      <td>4.8</td>\n",
       "      <td>56.0</td>\n",
       "      <td>0241334144</td>\n",
       "      <td>835.0</td>\n",
       "    </tr>\n",
       "    <tr>\n",
       "      <th>4</th>\n",
       "      <td>Elon Musk: How the Billionaire CEO of Spacex a...</td>\n",
       "      <td>by Ashlee Vance</td>\n",
       "      <td>4.5</td>\n",
       "      <td>725.0</td>\n",
       "      <td>0753555638</td>\n",
       "      <td>343.0</td>\n",
       "    </tr>\n",
       "  </tbody>\n",
       "</table>\n",
       "</div>"
      ],
      "text/plain": [
       "                                        amazon_title  \\\n",
       "0     Wings of Fire: An Autobiography of Abdul Kalam   \n",
       "1                                         Steve Jobs   \n",
       "2                                         Mein Kampf   \n",
       "3                                           Becoming   \n",
       "4  Elon Musk: How the Billionaire CEO of Spacex a...   \n",
       "\n",
       "                amazon_author  amazon_rating  amazon_reviews count  \\\n",
       "0              by Arun Tiwari            4.6                2133.0   \n",
       "1          by Walter Isaacson            4.6                 693.0   \n",
       "2             by Adolf Hitler            4.0                 480.0   \n",
       "3  by Michelle Obama - Import            4.8                  56.0   \n",
       "4             by Ashlee Vance            4.5                 725.0   \n",
       "\n",
       "  amazon_isbn-10  amazon_price  \n",
       "0     8173711461         194.0  \n",
       "1     034914043X         302.0  \n",
       "2     8172345429          89.0  \n",
       "3     0241334144         835.0  \n",
       "4     0753555638         343.0  "
      ]
     },
     "execution_count": 57,
     "metadata": {},
     "output_type": "execute_result"
    }
   ],
   "source": [
    "amazon.head()"
   ]
  },
  {
   "cell_type": "code",
   "execution_count": 58,
   "metadata": {},
   "outputs": [],
   "source": [
    "amazon = amazon.drop(amazon[amazon.amazon_price.isna()].index, axis=0)"
   ]
  },
  {
   "cell_type": "code",
   "execution_count": 59,
   "metadata": {},
   "outputs": [
    {
     "name": "stderr",
     "output_type": "stream",
     "text": [
      "/home/isht3/anaconda3/envs/env/lib/python3.7/site-packages/scipy/stats/stats.py:1713: FutureWarning: Using a non-tuple sequence for multidimensional indexing is deprecated; use `arr[tuple(seq)]` instead of `arr[seq]`. In the future this will be interpreted as an array index, `arr[np.array(seq)]`, which will result either in an error or a different result.\n",
      "  return np.add.reduce(sorted[indexer] * weights, axis=axis) / sumval\n"
     ]
    },
    {
     "data": {
      "text/plain": [
       "<matplotlib.axes._subplots.AxesSubplot at 0x7f70837c0c88>"
      ]
     },
     "execution_count": 59,
     "metadata": {},
     "output_type": "execute_result"
    },
    {
     "data": {
      "image/png": "[encoded data removed]",
      "text/plain": [
       "<Figure size 432x288 with 1 Axes>"
      ]
     },
     "metadata": {
      "needs_background": "light"
     },
     "output_type": "display_data"
    }
   ],
   "source": [
    "sns.distplot(amazon.amazon_price)"
   ]
  },
  {
   "cell_type": "markdown",
   "metadata": {},
   "source": [
    "# Merge the Dataframes: Amazon and Flipkart"
   ]
  },
  {
   "cell_type": "code",
   "execution_count": 61,
   "metadata": {},
   "outputs": [
    {
     "data": {
      "text/plain": [
       "2045"
      ]
     },
     "execution_count": 61,
     "metadata": {},
     "output_type": "execute_result"
    }
   ],
   "source": [
    "amazon_isbn = set(amazon['amazon_isbn-10'])\n",
    "len(amazon_isbn)"
   ]
  },
  {
   "cell_type": "code",
   "execution_count": 62,
   "metadata": {},
   "outputs": [
    {
     "data": {
      "text/plain": [
       "1259"
      ]
     },
     "execution_count": 62,
     "metadata": {},
     "output_type": "execute_result"
    }
   ],
   "source": [
    "flipkart_isbn = set(flipkart.flipkart_isbn10)\n",
    "len(flipkart_isbn)"
   ]
  },
  {
   "cell_type": "code",
   "execution_count": 63,
   "metadata": {},
   "outputs": [
    {
     "data": {
      "text/plain": [
       "0"
      ]
     },
     "execution_count": 63,
     "metadata": {},
     "output_type": "execute_result"
    }
   ],
   "source": [
    "len(flipkart_isbn.intersection(amazon_isbn))"
   ]
  }
 ],
 "metadata": {
  "kernelspec": {
   "display_name": "Python 3",
   "language": "python",
   "name": "python3"
  },
  "language_info": {
   "codemirror_mode": {
    "name": "ipython",
    "version": 3
   },
   "file_extension": ".py",
   "mimetype": "text/x-python",
   "name": "python",
   "nbconvert_exporter": "python",
   "pygments_lexer": "ipython3",
   "version": "3.7.1"
  }
 },
 "nbformat": 4,
 "nbformat_minor": 2
}
